{
 "cells": [
  {
   "cell_type": "markdown",
   "metadata": {},
   "source": [
    "<h1 class=\"alert alert-block alert-info\">GHI NHỚ</h1>\n",
    "<ul>\n",
    "    <li>Thư viện</li>\n",
    "    <li>Tỷ lệ ??:?? với random_state = ??</li>\n",
    "    <li>Đọc đề</li>\n",
    "    <li>Chuẩn hóa dữ liệu đầu vào trên tập huấn luyện<br>\n",
    "            scaler = StandardScaler()<br>\n",
    "            X_train_scaled = scaler.fit_transform(X_train)<br>\n",
    "            X_test_scaled = scaler.transform(X_test)</li>\n",
    "</ul>"
   ]
  },
  {
   "cell_type": "markdown",
   "metadata": {},
   "source": [
    "<H2 class=\"alert alert-info\">1. Mô hình hồi quy tuyến tính</H2>\n",
    "<h4>      model = LinearRegression()</h4>"
   ]
  },
  {
   "cell_type": "code",
   "execution_count": 13,
   "metadata": {},
   "outputs": [
    {
     "name": "stdout",
     "output_type": "stream",
     "text": [
      "Hệ số góc của biến 'age' trong mô hình huấn luyện là: 0.8433884781639227\n",
      "MAPE: 0.2012807931898763\n",
      "Hệ số tự do (intercept): 22.12483516483517\n",
      "R-squared trên tập huấn luyện: 0.5480883767100382\n",
      "MAP là: 0.2012807931898763\n"
     ]
    },
    {
     "data": {
      "text/plain": [
       "array([0.96775636, 0.91299676])"
      ]
     },
     "execution_count": 13,
     "metadata": {},
     "output_type": "execute_result"
    }
   ],
   "source": [
    "import pandas as pd\n",
    "from sklearn.model_selection import train_test_split\n",
    "from sklearn.linear_model import LinearRegression\n",
    "from sklearn.preprocessing import StandardScaler\n",
    "from sklearn.metrics import mean_absolute_percentage_error\n",
    "\n",
    "# Đọc dữ liệu\n",
    "data = pd.read_csv('BostonHousing.csv')\n",
    "\n",
    "# Tách dữ liệu đầu vào và đầu ra\n",
    "X = data[['age', 'lstat']]\n",
    "y = data['medv']\n",
    "\n",
    "# Tách dữ liệu thành tập huấn luyện và kiểm thử theo tỷ lệ 90:10 với random_state = 10\n",
    "X_train, X_test, y_train, y_test = train_test_split(X, y, test_size=0.1, random_state=10)\n",
    "\n",
    "# Chuẩn hóa dữ liệu đầu vào trên tập huấn luyện\n",
    "scaler = StandardScaler()\n",
    "X_train_scaled = scaler.fit_transform(X_train)\n",
    "X_test_scaled = scaler.transform(X_test)\n",
    "\n",
    "# Huấn luyện mô hình hồi quy tuyến tính\n",
    "model = LinearRegression()\n",
    "model.fit(X_train_scaled, y_train)\n",
    "\n",
    "# Lấy hệ số góc của biến 'age'\n",
    "age_coefficient = model.coef_[0]\n",
    "print(\"Hệ số góc của biến 'age' trong mô hình huấn luyện là:\", age_coefficient)\n",
    "\n",
    "# Dự báo trên tập kiểm tra đã chuẩn hóa\n",
    "y_pred = model.predict(X_test_scaled)\n",
    "\n",
    "# Tính MAPE trên dữ liệu kiểm tra đã chuẩn hóa\n",
    "mape = mean_absolute_percentage_error(y_test, y_pred)\n",
    "print(f\"MAPE: {mape}\")\n",
    "\n",
    "# Lấy hệ số tự do của mô hình\n",
    "intercept = model.intercept_\n",
    "print(f\"Hệ số tự do (intercept): {intercept}\")\n",
    "\n",
    "# dựa vào tập huấn luyện thì các biến độc lập giải thích được bao nhiêu phần trăm sự thay đổi của biến phụ thuộc\n",
    "# Giả sử bạn đã chuẩn hóa dữ liệu và huấn luyện mô hình như đã làm trước đó\n",
    "r_squared = model.score(X_train_scaled, y_train)\n",
    "print(f\"R-squared trên tập huấn luyện: {r_squared}\")\n",
    "\n",
    "# Tính MAPE\n",
    "mape = mean_absolute_percentage_error(y_test, y_pred)\n",
    "print(f\"MAP là: {mape}\")\n",
    "\n",
    "# Hiển thị hàng đầu tiên của dữ liệu đầu vào đào tạo chuẩn hóa\n",
    "X_train_scaled[0]\n"
   ]
  },
  {
   "cell_type": "code",
   "execution_count": 18,
   "metadata": {},
   "outputs": [
    {
     "name": "stdout",
     "output_type": "stream",
     "text": [
      "(455, 2)\n",
      "(51, 2)\n",
      "(455,)\n",
      "(51,)\n",
      "(51, 2)\n",
      "(455, 2)\n"
     ]
    }
   ],
   "source": [
    "print(X_train.shape)\n",
    "print(X_test.shape)\n",
    "print(y_train.shape)\n",
    "print(y_test.shape)\n",
    "print(X_test_scaled.shape)\n",
    "print(X_train_scaled.shape)"
   ]
  },
  {
   "cell_type": "code",
   "execution_count": 2,
   "metadata": {},
   "outputs": [
    {
     "name": "stdout",
     "output_type": "stream",
     "text": [
      "20.539788169192043\n"
     ]
    }
   ],
   "source": [
    "# Dự báo giá trị của medv khi age = 37.5 và lstat = 4.65\n",
    "predicted_medv = model.predict([[37.5, 4.65]])\n",
    "print(predicted_medv[0])"
   ]
  },
  {
   "cell_type": "markdown",
   "metadata": {},
   "source": [
    "<h2 class=\"alert alert-info\">2. Mô hình KNN (N_neighbors =?)</h2>\n",
    "<h4># Xây dựng và huấn luyện mô hình KNN <br>\n",
    "knn = KNeighborsClassifier(n_neighbors=3) <br>\n",
    "knn.fit(X_train_scaled, y_train)</h4>"
   ]
  },
  {
   "cell_type": "markdown",
   "metadata": {},
   "source": [
    "Mục đích sử dụng:\n",
    "\n",
    "KNeighborsRegressor: Dùng cho hồi quy (giá trị liên tục).\n",
    "\n",
    "KNeighborsClassifier: Dùng cho phân loại (nhãn phân loại).\n",
    "\n",
    "Đầu ra:\n",
    "\n",
    "KNeighborsRegressor: Giá trị số liên tục.\n",
    "\n",
    "KNeighborsClassifier: Nhãn phân loại.\n",
    "\n",
    "Khi nào sử dụng loại nào?\n",
    "Nếu bài toán của bạn yêu cầu dự báo một giá trị số liên tục (như giá nhà, nhiệt độ, ...), bạn nên sử dụng KNeighborsRegressor.\n",
    "\n",
    "Nếu bài toán của bạn yêu cầu phân loại một đối tượng vào các nhóm hoặc lớp cụ thể (như dự đoán loài hoa, phân loại thư tín, ...), bạn nên sử dụng KNeighborsClassifier."
   ]
  },
  {
   "cell_type": "code",
   "execution_count": null,
   "metadata": {},
   "outputs": [
    {
     "name": "stdout",
     "output_type": "stream",
     "text": [
      "MAPE: 0.2068515147120001\n",
      "R-squared trên tập kiểm tra: 0.3707806817392786\n"
     ]
    }
   ],
   "source": [
    "import pandas as pd\n",
    "import numpy as np\n",
    "from sklearn.model_selection import train_test_split\n",
    "from sklearn.preprocessing import StandardScaler\n",
    "from sklearn.neighbors import KNeighborsRegressor\n",
    "from sklearn.metrics import mean_absolute_percentage_error, r2_score\n",
    "\n",
    "# Đọc dữ liệu\n",
    "data = pd.read_csv('BostonHousing.csv')\n",
    "\n",
    "# Tách biến đầu vào và đầu ra\n",
    "X = data[['age', 'lstat']]\n",
    "y = data['medv']\n",
    "\n",
    "# Chia dữ liệu thành tập huấn luyện và tập kiểm tra\n",
    "X_train, X_test, y_train, y_test = train_test_split(X, y, test_size=0.1, random_state=10)\n",
    "\n",
    "# Chuẩn hóa dữ liệu\n",
    "scaler = StandardScaler()\n",
    "X_train_scaled = scaler.fit_transform(X_train)\n",
    "X_test_scaled = scaler.transform(X_test)\n",
    "\n",
    "# Xây dựng và huấn luyện mô hình KNN hồi quy\n",
    "knn = KNeighborsRegressor(n_neighbors=1) # or KNeighborsClassifier\n",
    "knn.fit(X_train_scaled, y_train)\n",
    "\n",
    "# Dự báo và đánh giá mô hình\n",
    "y_pred = knn.predict(X_test_scaled)\n",
    "mape = mean_absolute_percentage_error(y_test, y_pred)\n",
    "r_squared = r2_score(y_test, y_pred)\n",
    "\n",
    "print(f\"MAPE: {mape}\")\n",
    "print(f\"R-squared trên tập kiểm tra: {r_squared}\")\n"
   ]
  },
  {
   "cell_type": "markdown",
   "metadata": {},
   "source": [
    "<h1 class=\"alert alert-block alert-info\">3. Decision Tree</h1>"
   ]
  },
  {
   "cell_type": "markdown",
   "metadata": {},
   "source": [
    "<h2>DecisionTreeRegressor:</h2> Sử dụng cho bài toán hồi quy, với biến mục tiêu là các giá trị liên tục. Đánh giá mô hình bằng Mean Squared Error (MSE), R-squared, Mean Absolute Error (MAE), v.v."
   ]
  },
  {
   "cell_type": "code",
   "execution_count": 6,
   "metadata": {},
   "outputs": [
    {
     "name": "stdout",
     "output_type": "stream",
     "text": [
      "Mean Squared Error: 65.51333333333335\n",
      "R-squared trên tập kiểm tra: 0.33827033368071513\n"
     ]
    }
   ],
   "source": [
    "import pandas as pd\n",
    "from sklearn.model_selection import train_test_split\n",
    "from sklearn.preprocessing import StandardScaler\n",
    "from sklearn.tree import DecisionTreeRegressor\n",
    "from sklearn.metrics import mean_squared_error, r2_score\n",
    "\n",
    "# Đọc dữ liệu\n",
    "data = pd.read_csv('BostonHousing.csv')\n",
    "\n",
    "# Tách biến đầu vào và đầu ra\n",
    "X = data[['age', 'lstat']]\n",
    "y = data['medv']\n",
    "\n",
    "# Chia dữ liệu thành tập huấn luyện và tập kiểm tra\n",
    "X_train, X_test, y_train, y_test = train_test_split(X, y, test_size=0.1, random_state=10)\n",
    "\n",
    "# Chuẩn hóa dữ liệu\n",
    "scaler = StandardScaler()\n",
    "X_train_scaled = scaler.fit_transform(X_train)\n",
    "X_test_scaled = scaler.transform(X_test)\n",
    "\n",
    "# Xây dựng và huấn luyện mô hình cây quyết định hồi quy\n",
    "tree = DecisionTreeRegressor(random_state=42)\n",
    "tree.fit(X_train_scaled, y_train)\n",
    "\n",
    "# Dự báo và đánh giá mô hình\n",
    "y_pred = tree.predict(X_test_scaled)\n",
    "mse = mean_squared_error(y_test, y_pred)\n",
    "r_squared = r2_score(y_test, y_pred)\n",
    "\n",
    "print(f\"Mean Squared Error: {mse}\")\n",
    "print(f\"R-squared trên tập kiểm tra: {r_squared}\")\n"
   ]
  },
  {
   "cell_type": "markdown",
   "metadata": {},
   "source": [
    "<h2>DecisionTreeClassifier:</h2> Sử dụng cho bài toán phân loại, với biến mục tiêu là các nhãn phân loại. Đánh giá mô hình bằng độ chính xác (accuracy) hoặc các chỉ số khác như precision, recall, F1-score."
   ]
  },
  {
   "cell_type": "code",
   "execution_count": null,
   "metadata": {},
   "outputs": [
    {
     "name": "stdout",
     "output_type": "stream",
     "text": [
      "Độ chính xác của mô hình: 33.33%\n"
     ]
    }
   ],
   "source": [
    "import pandas as pd\n",
    "from sklearn.model_selection import train_test_split\n",
    "from sklearn.preprocessing import LabelEncoder\n",
    "from sklearn.tree import DecisionTreeClassifier\n",
    "from sklearn.metrics import accuracy_score\n",
    "\n",
    "# Chuẩn bị dữ liệu\n",
    "data = {\n",
    "    'Sức khỏe': ['ốm', 'ốm', 'ốm', 'ốm', 'tốt', 'tốt', 'tốt'],\n",
    "    'Thời tiết': ['u ám', 'mưa', 'nắng', 'u ám', 'u ám', 'mưa', 'nắng'],\n",
    "    'Kết quả': ['có', 'có', 'không', 'có', 'không', 'không', 'có']\n",
    "}\n",
    "\n",
    "df = pd.DataFrame(data)\n",
    "\n",
    "# Chuyển đổi các giá trị phân loại thành số\n",
    "le = LabelEncoder()\n",
    "df['Sức khỏe'] = le.fit_transform(df['Sức khỏe'])\n",
    "df['Thời tiết'] = le.fit_transform(df['Thời tiết'])\n",
    "df['Kết quả'] = le.fit_transform(df['Kết quả'])\n",
    "\n",
    "# Tách biến đầu vào và đầu ra\n",
    "X = df[['Sức khỏe', 'Thời tiết']]\n",
    "y = df['Kết quả']\n",
    "\n",
    "# Chia dữ liệu thành tập huấn luyện và tập kiểm tra\n",
    "X_train, X_test, y_train, y_test = train_test_split(X, y, test_size=0.3, random_state=42)\n",
    "\n",
    "# Xây dựng và huấn luyện mô hình cây quyết định phân loại\n",
    "tree_classifier = DecisionTreeClassifier(random_state=42)\n",
    "tree_classifier.fit(X_train, y_train)\n",
    "\n",
    "# Dự báo và đánh giá mô hình\n",
    "y_pred = tree_classifier.predict(X_test)\n",
    "accuracy = accuracy_score(y_test, y_pred)\n",
    "print(f\"Độ chính xác của mô hình: {accuracy * 100:.2f}%\")\n"
   ]
  },
  {
   "cell_type": "markdown",
   "metadata": {},
   "source": [
    "<h1 class=\"alert alert-block alert-info\">4. Bayesian</h1>"
   ]
  },
  {
   "cell_type": "markdown",
   "metadata": {},
   "source": [
    "mô hình bayesia\n",
    "Mô hình Bayes (Bayesian model) là một phương pháp mạnh mẽ trong học máy và thống kê, dựa trên định lý Bayes. Các mô hình này thường được sử dụng để đưa ra dự đoán và phân loại dựa trên xác suất. Dưới đây là một số khái niệm chính và ứng dụng của mô hình Bayes:\n",
    "\n",
    "Định lý Bayes:\n",
    "Định lý Bayes mô tả xác suất có điều kiện và mối quan hệ giữa xác suất của hai biến sự kiện:\n",
    "\n",
    "𝑃\n",
    "(\n",
    "𝐴\n",
    "∣\n",
    "𝐵\n",
    ")\n",
    "\"=\"\n",
    "𝑃\n",
    "(\n",
    "𝐵\n",
    "∣\n",
    "𝐴\n",
    ")\n",
    "⋅\n",
    "𝑃\n",
    "(\n",
    "𝐴\n",
    ")\n",
    " / 𝑃\n",
    "(\n",
    "𝐵\n",
    ")<br>\n",
    "Trong đó:\n",
    "\n",
    "𝑃\n",
    "(\n",
    "𝐴\n",
    "∣\n",
    "𝐵\n",
    ")\n",
    " là xác suất của sự kiện A xảy ra khi biết B đã xảy ra.\n",
    "\n",
    "𝑃\n",
    "(\n",
    "𝐵\n",
    "∣\n",
    "𝐴\n",
    ")\n",
    " là xác suất của sự kiện B xảy ra khi biết A đã xảy ra.\n",
    "\n",
    "𝑃\n",
    "(\n",
    "𝐴\n",
    ")\n",
    " và \n",
    "𝑃\n",
    "(\n",
    "𝐵\n",
    ")\n",
    " là xác suất của sự kiện A và B xảy ra độc lập."
   ]
  },
  {
   "cell_type": "markdown",
   "metadata": {},
   "source": [
    "<h3>Naive Bayes:</h3>\n",
    "\n",
    "Giả định đơn giản: Các đặc trưng là độc lập với nhau.\n",
    "\n",
    "Ứng dụng: Phân loại văn bản (spam detection), phân loại hình ảnh, phân loại cảm xúc, v.v.\n",
    "\n",
    "Ưu điểm: Nhanh chóng, hiệu quả, dễ triển khai."
   ]
  },
  {
   "cell_type": "code",
   "execution_count": 8,
   "metadata": {},
   "outputs": [
    {
     "name": "stdout",
     "output_type": "stream",
     "text": [
      "Độ chính xác của mô hình: 0.00%\n"
     ]
    }
   ],
   "source": [
    "from sklearn.model_selection import train_test_split\n",
    "from sklearn.feature_extraction.text import CountVectorizer\n",
    "from sklearn.naive_bayes import MultinomialNB\n",
    "from sklearn.metrics import accuracy_score\n",
    "\n",
    "# Dữ liệu mẫu\n",
    "texts = [\"I love this movie\", \"I hate this movie\", \"This is the best movie\", \"This is the worst movie\"]\n",
    "labels = [\"positive\", \"negative\", \"positive\", \"negative\"]\n",
    "\n",
    "# Chuyển đổi văn bản thành ma trận đếm từ\n",
    "vectorizer = CountVectorizer()\n",
    "X = vectorizer.fit_transform(texts)\n",
    "y = labels\n",
    "\n",
    "# Chia dữ liệu thành tập huấn luyện và tập kiểm tra\n",
    "X_train, X_test, y_train, y_test = train_test_split(X, y, test_size=0.2, random_state=42)\n",
    "\n",
    "# Xây dựng và huấn luyện mô hình Naive Bayes\n",
    "model = MultinomialNB()\n",
    "model.fit(X_train, y_train)\n",
    "\n",
    "# Dự báo và đánh giá mô hình\n",
    "y_pred = model.predict(X_test)\n",
    "accuracy = accuracy_score(y_test, y_pred)\n",
    "print(f\"Độ chính xác của mô hình: {accuracy * 100:.2f}%\")\n"
   ]
  },
  {
   "cell_type": "code",
   "execution_count": 9,
   "metadata": {},
   "outputs": [
    {
     "name": "stdout",
     "output_type": "stream",
     "text": [
      "Độ chính xác của mô hình: 66.67%\n"
     ]
    }
   ],
   "source": [
    "import pandas as pd\n",
    "from sklearn.model_selection import train_test_split\n",
    "from sklearn.preprocessing import LabelEncoder\n",
    "from sklearn.naive_bayes import GaussianNB\n",
    "from sklearn.metrics import accuracy_score\n",
    "\n",
    "# Chuẩn bị dữ liệu\n",
    "data = {\n",
    "    'Sức khỏe': ['ốm', 'ốm', 'ốm', 'ốm', 'tốt', 'tốt', 'tốt'],\n",
    "    'Thời tiết': ['u ám', 'mưa', 'nắng', 'u ám', 'u ám', 'mưa', 'nắng'],\n",
    "    'Kết quả': ['có', 'có', 'không', 'có', 'không', 'không', 'có']\n",
    "}\n",
    "\n",
    "df = pd.DataFrame(data)\n",
    "\n",
    "# Chuyển đổi các giá trị phân loại thành số\n",
    "le = LabelEncoder()\n",
    "df['Sức khỏe'] = le.fit_transform(df['Sức khỏe'])\n",
    "df['Thời tiết'] = le.fit_transform(df['Thời tiết'])\n",
    "df['Kết quả'] = le.fit_transform(df['Kết quả'])\n",
    "\n",
    "# Tách biến đầu vào và đầu ra\n",
    "X = df[['Sức khỏe', 'Thời tiết']]\n",
    "y = df['Kết quả']\n",
    "\n",
    "# Chia dữ liệu thành tập huấn luyện và tập kiểm tra\n",
    "X_train, X_test, y_train, y_test = train_test_split(X, y, test_size=0.3, random_state=42)\n",
    "\n",
    "# Xây dựng và huấn luyện mô hình Naive Bayes\n",
    "model = GaussianNB()\n",
    "model.fit(X_train, y_train)\n",
    "\n",
    "# Dự báo và đánh giá mô hình\n",
    "y_pred = model.predict(X_test)\n",
    "accuracy = accuracy_score(y_test, y_pred)\n",
    "print(f\"Độ chính xác của mô hình: {accuracy * 100:.2f}%\")\n"
   ]
  },
  {
   "cell_type": "markdown",
   "metadata": {},
   "source": [
    "<h1 class=\"alert alert-block alert-info\">5. Hồi quy tuyến tính bội (Multiple Linear Regression)</h1>\n",
    " là một phương pháp dùng để mô hình hóa mối quan hệ giữa một biến mục tiêu (dependent variable) và nhiều biến đầu vào (independent variables)."
   ]
  },
  {
   "cell_type": "code",
   "execution_count": 10,
   "metadata": {},
   "outputs": [
    {
     "name": "stdout",
     "output_type": "stream",
     "text": [
      "Mean Squared Error: 49.312606628201\n",
      "R-squared trên tập kiểm tra: 0.5019088013216607\n"
     ]
    }
   ],
   "source": [
    "import pandas as pd\n",
    "from sklearn.model_selection import train_test_split\n",
    "from sklearn.preprocessing import StandardScaler\n",
    "from sklearn.linear_model import LinearRegression\n",
    "from sklearn.metrics import mean_squared_error, r2_score\n",
    "\n",
    "# Đọc dữ liệu\n",
    "data = pd.read_csv('BostonHousing.csv')\n",
    "\n",
    "# Tách biến đầu vào và đầu ra\n",
    "X = data[['age', 'lstat']]\n",
    "y = data['medv']\n",
    "\n",
    "# Chia dữ liệu thành tập huấn luyện và tập kiểm tra\n",
    "X_train, X_test, y_train, y_test = train_test_split(X, y, test_size=0.1, random_state=10)\n",
    "\n",
    "# Chuẩn hóa dữ liệu\n",
    "scaler = StandardScaler()\n",
    "X_train_scaled = scaler.fit_transform(X_train)\n",
    "X_test_scaled = scaler.transform(X_test)\n",
    "\n",
    "# Xây dựng và huấn luyện mô hình hồi quy tuyến tính bội\n",
    "model = LinearRegression()\n",
    "model.fit(X_train_scaled, y_train)\n",
    "\n",
    "# Dự báo và đánh giá mô hình\n",
    "y_pred = model.predict(X_test_scaled)\n",
    "mse = mean_squared_error(y_test, y_pred)\n",
    "r_squared = r2_score(y_test, y_pred)\n",
    "\n",
    "print(f\"Mean Squared Error: {mse}\")\n",
    "print(f\"R-squared trên tập kiểm tra: {r_squared}\")\n"
   ]
  },
  {
   "cell_type": "code",
   "execution_count": 11,
   "metadata": {},
   "outputs": [
    {
     "name": "stdout",
     "output_type": "stream",
     "text": [
      "Giá trị dự báo của medv: 29.454798629362067\n"
     ]
    },
    {
     "name": "stderr",
     "output_type": "stream",
     "text": [
      "c:\\Users\\DELL\\AppData\\Local\\Programs\\Python\\Python312\\Lib\\site-packages\\sklearn\\base.py:493: UserWarning: X does not have valid feature names, but StandardScaler was fitted with feature names\n",
      "  warnings.warn(\n"
     ]
    }
   ],
   "source": [
    "import numpy as np\n",
    "\n",
    "# Giá trị mới của age và lstat\n",
    "new_data = np.array([[37.5, 4.65]])\n",
    "\n",
    "# Chuẩn hóa giá trị đầu vào mới\n",
    "new_data_scaled = scaler.transform(new_data)\n",
    "\n",
    "# Dự báo giá trị medv\n",
    "predicted_medv = model.predict(new_data_scaled)\n",
    "print(f\"Giá trị dự báo của medv: {predicted_medv[0]}\")\n"
   ]
  },
  {
   "cell_type": "markdown",
   "metadata": {},
   "source": [
    "<div  class=\"alert alert-block alert-info\">\n",
    "    <h1>Links</h1>\n",
    "    <a href=\"https://intellipaat.com/blog/what-is-linear-regression/?US#Boston-Housing-Prices-Dataset\"> Hồi quy tuyến tính</a><br>\n",
    "    <a href=\"https://github.com/flexeduvn/nmptdlai\"> Code Github</a><br>\n",
    "    <a href=\"https://github.com/TMHuinh/ptdl\"> Data cá nhân</a>\n",
    "</div>\n"
   ]
  }
 ],
 "metadata": {
  "kernelspec": {
   "display_name": "Python 3",
   "language": "python",
   "name": "python3"
  },
  "language_info": {
   "codemirror_mode": {
    "name": "ipython",
    "version": 3
   },
   "file_extension": ".py",
   "mimetype": "text/x-python",
   "name": "python",
   "nbconvert_exporter": "python",
   "pygments_lexer": "ipython3",
   "version": "3.12.6"
  }
 },
 "nbformat": 4,
 "nbformat_minor": 2
}
